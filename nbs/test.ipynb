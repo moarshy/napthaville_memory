{
 "cells": [
  {
   "cell_type": "code",
   "execution_count": 1,
   "metadata": {},
   "outputs": [],
   "source": [
    "import logging\n",
    "logging.basicConfig(level=logging.INFO)\n",
    "logger = logging.getLogger(__name__)"
   ]
  },
  {
   "cell_type": "code",
   "execution_count": 3,
   "metadata": {},
   "outputs": [],
   "source": [
    "import json\n",
    "from napthaville_memory.run import NapthavilleMemory\n",
    "from napthaville_memory.schemas import InputSchema, OutputSchema, MemoryType\n",
    "from naptha_sdk.storage.schemas import DeleteStorageRequest, StorageType\n",
    "from naptha_sdk.storage.storage_client import StorageClient\n",
    "from naptha_sdk.schemas import NodeConfigUser\n",
    "\n",
    "node_config = NodeConfigUser(\n",
    "    ip=\"localhost\",\n",
    "    user_communication_port=7001,\n",
    "    user_communication_protocol=\"http\"\n",
    ")"
   ]
  },
  {
   "cell_type": "code",
   "execution_count": 8,
   "metadata": {},
   "outputs": [
    {
     "name": "stderr",
     "output_type": "stream",
     "text": [
      "INFO:naptha_sdk.utils:Node schema: ip='localhost' user_communication_port=7001 user_communication_protocol='http'\n",
      "2025-02-22 13:17:50,683 - naptha_sdk.storage.storage_client - INFO - Storage Provider URL: http://localhost:7001\n",
      "INFO:naptha_sdk.storage.storage_client:Storage Provider URL: http://localhost:7001\n",
      "INFO:httpx:HTTP Request: DELETE http://localhost:7001/storage/db/delete/napthaville_memory \"HTTP/1.1 200 OK\"\n"
     ]
    },
    {
     "data": {
      "text/plain": [
       "True"
      ]
     },
     "execution_count": 8,
     "metadata": {},
     "output_type": "execute_result"
    }
   ],
   "source": [
    "storage_client = StorageClient(node_config)\n",
    "delete_request = DeleteStorageRequest(\n",
    "    storage_type=StorageType.DATABASE,\n",
    "    path=\"napthaville_memory\"\n",
    ")\n",
    "await storage_client.execute(delete_request)"
   ]
  },
  {
   "cell_type": "code",
   "execution_count": 4,
   "metadata": {},
   "outputs": [],
   "source": [
    "deployment = json.load(open(\"/Users/arshath/play/napthaville_memory/napthaville_memory/configs/deployment.json\"))"
   ]
  },
  {
   "cell_type": "code",
   "execution_count": null,
   "metadata": {},
   "outputs": [],
   "source": [
    "memory = await NapthavilleMemory.create(deployment[0])"
   ]
  },
  {
   "cell_type": "code",
   "execution_count": null,
   "metadata": {},
   "outputs": [],
   "source": [
    "# initialize memory\n",
    "run_input = InputSchema(\n",
    "    function_name=\"init\",\n",
    "    function_input_data={}\n",
    ")\n",
    "result = await memory.init(run_input)\n",
    "print(result)\n"
   ]
  },
  {
   "cell_type": "code",
   "execution_count": null,
   "metadata": {},
   "outputs": [],
   "source": [
    "# add spatial memory\n",
    "run_input = {\n",
    "            \"memory_type\": \"spatial\",\n",
    "            \"operation\": \"add\",\n",
    "            \"data\": json.dumps({\"key\": \"value\"})\n",
    "        }\n",
    "\n",
    "result = await memory.set_memory(run_input)\n",
    "print(result)"
   ]
  },
  {
   "cell_type": "code",
   "execution_count": null,
   "metadata": {},
   "outputs": [],
   "source": [
    "#  add scratch memory\n",
    "run_input = {\n",
    "    \"memory_type\": \"scratch\",\n",
    "    \"operation\": \"add\",\n",
    "    \"data\": json.dumps({\"key\": \"value\"})\n",
    "}\n",
    "result = await memory.set_memory(run_input)\n",
    "print(result)\n"
   ]
  },
  {
   "cell_type": "code",
   "execution_count": null,
   "metadata": {},
   "outputs": [],
   "source": [
    "#  add associative memory - embeddings\n",
    "run_input = {\n",
    "    \"memory_type\": \"associative\",\n",
    "    \"subtype\": \"embeddings\",\n",
    "    \"operation\": \"add\",\n",
    "    \"data\": json.dumps({\"key\": \"value\"})\n",
    "}\n",
    "result = await memory.set_memory(run_input)\n",
    "print(result)\n"
   ]
  },
  {
   "cell_type": "code",
   "execution_count": null,
   "metadata": {},
   "outputs": [],
   "source": [
    "# add associative memory - nodes\n",
    "run_input = {\n",
    "    \"memory_type\": \"associative\",\n",
    "    \"subtype\": \"nodes\",\n",
    "    \"operation\": \"add\",\n",
    "    \"data\": json.dumps({\"key\": \"value\"})\n",
    "}\n",
    "result = await memory.set_memory(run_input)\n",
    "print(result)\n",
    "\n"
   ]
  },
  {
   "cell_type": "code",
   "execution_count": null,
   "metadata": {},
   "outputs": [],
   "source": [
    "# add associative memory - keyword strength\n",
    "run_input = {\n",
    "    \"memory_type\": \"associative\",\n",
    "    \"subtype\": \"kw_strength\",\n",
    "    \"operation\": \"add\",\n",
    "    \"data\": json.dumps({\"key\": \"value\"})\n",
    "}\n",
    "result = await memory.set_memory(run_input)\n",
    "print(result)"
   ]
  },
  {
   "cell_type": "code",
   "execution_count": null,
   "metadata": {},
   "outputs": [],
   "source": [
    "# get spatial memory\n",
    "run_input = {\n",
    "    \"memory_type\": \"spatial\"\n",
    "}\n",
    "result = await memory.get_memory(run_input)\n",
    "print(result)\n"
   ]
  },
  {
   "cell_type": "code",
   "execution_count": null,
   "metadata": {},
   "outputs": [],
   "source": [
    "# get scratch memory\n",
    "run_input = {\n",
    "    \"memory_type\": \"scratch\"\n",
    "}\n",
    "result = await memory.get_memory(run_input)\n",
    "print(result)\n"
   ]
  },
  {
   "cell_type": "code",
   "execution_count": null,
   "metadata": {},
   "outputs": [],
   "source": [
    "# get associative memory - embeddings\n",
    "run_input = {\n",
    "    \"memory_type\": \"associative\",\n",
    "}\n",
    "result = await memory.get_memory(run_input)\n",
    "print(result)"
   ]
  },
  {
   "cell_type": "code",
   "execution_count": null,
   "metadata": {},
   "outputs": [],
   "source": [
    "json.loads(result['all_memory'][0]['memory_data'])"
   ]
  },
  {
   "cell_type": "code",
   "execution_count": null,
   "metadata": {},
   "outputs": [],
   "source": [
    "# update spatial memory\n",
    "run_input = {\n",
    "    \"memory_type\": \"spatial\",\n",
    "    \"operation\": \"update\",\n",
    "    \"data\": json.dumps({\"key\": \"updated_value\"})\n",
    "}\n",
    "result = await memory.set_memory(run_input)\n",
    "\n",
    "# get updated spatial memory\n",
    "run_input = {\n",
    "    \"memory_type\": \"spatial\"\n",
    "}\n",
    "result = await memory.get_memory(run_input)\n",
    "print(result)"
   ]
  },
  {
   "cell_type": "code",
   "execution_count": null,
   "metadata": {},
   "outputs": [],
   "source": [
    "# update scratch memory\n",
    "run_input = {\n",
    "    \"memory_type\": \"scratch\",\n",
    "    \"operation\": \"update\",\n",
    "    \"data\": json.dumps({\"key\": \"updated_value\"})\n",
    "}\n",
    "result = await memory.set_memory(run_input)\n",
    "\n",
    "# get updated scratch memory\n",
    "run_input = {\n",
    "    \"memory_type\": \"scratch\"\n",
    "}\n",
    "result = await memory.get_memory(run_input)\n",
    "print(result)\n"
   ]
  },
  {
   "cell_type": "code",
   "execution_count": null,
   "metadata": {},
   "outputs": [],
   "source": [
    "# update associative memory - embeddings\n",
    "run_input = {\n",
    "    \"memory_type\": \"associative\",\n",
    "    \"subtype\": \"embeddings\",\n",
    "    \"operation\": \"update\",\n",
    "    \"data\": json.dumps({\"key\": \"updated_value\"})\n",
    "}\n",
    "\n",
    "result = await memory.set_memory(run_input)\n",
    "\n",
    "# get updated associative memory - embeddings\n",
    "run_input = {\n",
    "    \"memory_type\": \"associative\",\n",
    "    \"subtype\": \"embeddings\"\n",
    "}\n",
    "result = await memory.get_memory(run_input)\n",
    "print(result)"
   ]
  },
  {
   "cell_type": "code",
   "execution_count": null,
   "metadata": {},
   "outputs": [],
   "source": [
    "# update associative memory - nodes\n",
    "run_input = {\n",
    "    \"memory_type\": \"associative\",\n",
    "    \"subtype\": \"nodes\",\n",
    "    \"operation\": \"update\",\n",
    "    \"data\": json.dumps({\"key\": \"updated_value\"})\n",
    "}\n",
    "\n",
    "result = await memory.set_memory(run_input)\n",
    "\n",
    "# get updated associative memory - nodes\n",
    "run_input = {\n",
    "    \"memory_type\": \"associative\",\n",
    "    \"subtype\": \"nodes\"\n",
    "}\n",
    "result = await memory.get_memory(run_input)\n",
    "print(result)\n"
   ]
  },
  {
   "cell_type": "code",
   "execution_count": null,
   "metadata": {},
   "outputs": [],
   "source": [
    "# update associative memory - keyword strength\n",
    "run_input = {\n",
    "    \"memory_type\": \"associative\",\n",
    "    \"subtype\": \"kw_strength\",\n",
    "    \"operation\": \"update\",\n",
    "    \"data\": json.dumps({\"key\": \"updated_value\"})\n",
    "}\n",
    "\n",
    "result = await memory.set_memory(run_input)\n",
    "\n",
    "# get updated associative memory - keyword strength\n",
    "run_input = {\n",
    "    \"memory_type\": \"associative\",\n",
    "    \"subtype\": \"kw_strength\"\n",
    "}\n",
    "result = await memory.get_memory(run_input)\n",
    "print(result)\n"
   ]
  },
  {
   "cell_type": "code",
   "execution_count": null,
   "metadata": {},
   "outputs": [],
   "source": []
  }
 ],
 "metadata": {
  "kernelspec": {
   "display_name": ".venv",
   "language": "python",
   "name": "python3"
  },
  "language_info": {
   "codemirror_mode": {
    "name": "ipython",
    "version": 3
   },
   "file_extension": ".py",
   "mimetype": "text/x-python",
   "name": "python",
   "nbconvert_exporter": "python",
   "pygments_lexer": "ipython3",
   "version": "3.11.11"
  }
 },
 "nbformat": 4,
 "nbformat_minor": 2
}
